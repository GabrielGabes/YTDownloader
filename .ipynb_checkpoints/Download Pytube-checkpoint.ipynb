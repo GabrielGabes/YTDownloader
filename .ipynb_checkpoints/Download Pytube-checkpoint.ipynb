{
 "cells": [
  {
   "cell_type": "code",
   "execution_count": 1,
   "id": "63a4b200-de85-4060-9e09-5ea847905492",
   "metadata": {},
   "outputs": [],
   "source": [
    "formato_video_audio = True"
   ]
  },
  {
   "cell_type": "code",
   "execution_count": 17,
   "id": "262e9b72",
   "metadata": {},
   "outputs": [],
   "source": [
    "import pytube\n",
    "from pytube import YouTube #download de videos\n",
    "from pytube import Playlist #download de playlists\n",
    "\n",
    "import time\n",
    "import numpy as np\n",
    "import pandas as pd\n",
    "\n",
    "#caminho_salvar_arquivo = os.getcwd() # Diretorio atual\n",
    "caminho_salvar_arquivo = 'C:/Users/gabri/Downloads/Download pytube'"
   ]
  },
  {
   "cell_type": "code",
   "execution_count": 3,
   "id": "432c4ff8-3d18-4054-8f37-2b65bd8a5a99",
   "metadata": {},
   "outputs": [],
   "source": [
    "# Função para barra de progresso\n",
    "from tqdm import tqdm\n",
    "def progress_function(stream, chunk, bytes_remaining):\n",
    "    total_size = stream.filesize\n",
    "    bytes_downloaded = total_size - bytes_remaining\n",
    "    progress = int((bytes_downloaded / total_size) * 100)\n",
    "    bar.update(progress - bar.n)  # Atualiza a barra de progresso com o progresso atual"
   ]
  },
  {
   "cell_type": "raw",
   "id": "2ae24b82-4f76-4b32-a8de-34be2b5458ef",
   "metadata": {},
   "source": [
    "#### filtros:\n",
    "\n",
    "filter(file_extension='mp4', res='720p').first()\n",
    "\n",
    "filter(progressive=True)[-1]           # Video e Audio\n",
    "filter(adaptive=True).first()          # Video\n",
    "filter(only_audio=True).first()        # Apenas Audio\n",
    "filter(file_extension='mp4').first()   # Filtro MP4\n",
    "get_highest_resolution()               # Melhor qualidade de Video e Audio"
   ]
  },
  {
   "cell_type": "markdown",
   "id": "614cc7f0-b4e7-4083-aaca-c0632bf9845b",
   "metadata": {},
   "source": [
    "# Visualização de formatos possiveis:"
   ]
  },
  {
   "cell_type": "code",
   "execution_count": 5,
   "id": "6256dfb7-b3a9-48a3-918b-99164602429e",
   "metadata": {
    "scrolled": true
   },
   "outputs": [
    {
     "name": "stdout",
     "output_type": "stream",
     "text": [
      "Não dois: não dualidade explicada - Parte 6 - O Centro \n",
      "\n",
      "***************Formatos Possiveis:****************\n",
      "    Tipo Resolução Codec de Áudio Taxa de Bits de Áudio\n",
      "0  video      360p      mp4a.40.2                96kbps\n",
      "1  video      720p      mp4a.40.2               192kbps\n"
     ]
    }
   ],
   "source": [
    "video_url = 'https://www.youtube.com/watch?v=4RMlboFffKU'\n",
    "video = YouTube(video_url) ; print(video.title, '\\n')\n",
    "#streams = video.streams.filter(file_extension='mp4')\n",
    "streams = video.streams.filter(file_extension='mp4', progressive=True)\n",
    "\n",
    "print(\"Formatos Possiveis:\".center(50,'*'))\n",
    "data = []\n",
    "for stream in streams:\n",
    "    stream_data = {\n",
    "        #'itag': stream.itag,\n",
    "        'Tipo': stream.type,\n",
    "        #'Codec de Vídeo': stream.video_codec,\n",
    "        'Resolução': stream.resolution,\n",
    "        'Codec de Áudio': stream.audio_codec,\n",
    "        'Taxa de Bits de Áudio': stream.abr\n",
    "    }\n",
    "    data.append(stream_data)\n",
    "\n",
    "df_streams = pd.DataFrame(data)\n",
    "print(df_streams)"
   ]
  },
  {
   "cell_type": "code",
   "execution_count": 9,
   "id": "d6f00306-2918-4200-8c41-b38338e68bbf",
   "metadata": {},
   "outputs": [
    {
     "data": {
      "text/plain": [
       "<Stream: itag=\"22\" mime_type=\"video/mp4\" res=\"720p\" fps=\"25fps\" vcodec=\"avc1.64001F\" acodec=\"mp4a.40.2\" progressive=\"True\" type=\"video\">"
      ]
     },
     "execution_count": 9,
     "metadata": {},
     "output_type": "execute_result"
    }
   ],
   "source": [
    "video.streams.filter(file_extension='mp4', progressive=True)[-1]"
   ]
  },
  {
   "cell_type": "markdown",
   "id": "3c330366-7227-41e8-aeed-7c47ae2013e2",
   "metadata": {},
   "source": [
    "# Imprimir os atributos do stream selecionado"
   ]
  },
  {
   "cell_type": "code",
   "execution_count": 10,
   "id": "fbf5d741-09b2-43d6-b6ae-0ee18a56b722",
   "metadata": {},
   "outputs": [],
   "source": [
    "def todos_atributos_video(stream):\n",
    "    print(\"Atributos do Stream:\".center(50,'*'))\n",
    "    print(f\"Resolucao: {stream.resolution}\")\n",
    "    print(f\"Codec de Vídeo: {stream.video_codec}\")\n",
    "    print(f\"Codec de Áudio: {stream.audio_codec}\")\n",
    "    print(f\"Tipo de Stream: {stream.type}\")\n",
    "    print(f\"Taxa de Bits de Áudio: {stream.abr}\")\n",
    "    print(f\"É progressivo? {'Sim' if stream.is_progressive else 'Não'}\")\n",
    "    print(f\"É adaptativo? {'Sim' if stream.is_adaptive else 'Não'}\")\n",
    "    print(f'Tamanho: {str(round(stream.filesize_mb, 2))} MB')"
   ]
  },
  {
   "cell_type": "code",
   "execution_count": 11,
   "id": "df18d0f6-3508-4491-a468-6bbfeb44810b",
   "metadata": {},
   "outputs": [],
   "source": [
    "def atributos_video(stream):\n",
    "    print(\"Atributos do Stream:\".center(50,'*'))\n",
    "    print(f\"Resolucao: {stream.resolution}\")\n",
    "    print(f\"Codec de Áudio: {stream.audio_codec}\")\n",
    "    print(f\"Tipo de Stream: {stream.type}\")\n",
    "    print(f\"Taxa de Bits de Áudio: {stream.abr}\")\n",
    "    print(f'Tamanho: {str(round(stream.filesize_mb, 2))} MB')\n",
    "    print('*'*50)"
   ]
  },
  {
   "cell_type": "code",
   "execution_count": 12,
   "id": "765d9fe1-a092-441b-b672-472d50931165",
   "metadata": {},
   "outputs": [],
   "source": [
    "def download():\n",
    "    ################################### DOWNLOAD ###################################\n",
    "    if formato_video_audio: stream = video.streams.filter(file_extension='mp4', progressive=True)[-1]\n",
    "    else:                   stream = video.streams.filter(file_extension='mp4', only_audio=True)[-1]\n",
    "    \n",
    "    max_tentativas = 5; tentativa_atual = 0\n",
    "    while tentativa_atual < max_tentativas:\n",
    "        try:\n",
    "            stream.download(output_path= caminho_salvar_arquivo)\n",
    "            atributos_video(stream)\n",
    "            break\n",
    "        except Exception as e:\n",
    "            tentativa_atual += 1\n",
    "            print(f\"Falha no download: {e}. Tentativa {tentativa_atual} de {max_tentativas}.\")\n",
    "            time.sleep(5)\n",
    "    print(video.streams.filter(file_extension='mp4', progressive=True)[-1])\n",
    "    ###############################################################################"
   ]
  },
  {
   "cell_type": "code",
   "execution_count": 13,
   "id": "1fa47ab9-0e6a-41c7-98ee-5d8e33176c92",
   "metadata": {},
   "outputs": [
    {
     "name": "stdout",
     "output_type": "stream",
     "text": [
      "Video_Unico\n",
      "Playlist\n"
     ]
    }
   ],
   "source": [
    "# Verificar se o link trata-se de um video unico ou playlist\n",
    "def verificar_tipo_url(url):\n",
    "    if 'playlist?list=' in url:\n",
    "        return \"Playlist\"\n",
    "    elif 'watch?v=' in url:\n",
    "        return \"Video_Unico\"\n",
    "    else:\n",
    "        if 'youtu.be' in url:\n",
    "            return \"Video_Unico\"\n",
    "        else:\n",
    "            return \"URL não reconhecida\"\n",
    "\n",
    "# Exemplos de URLs para testar\n",
    "url_video = 'https://www.youtube.com/watch?v=4RMlboFffKU'\n",
    "url_playlist = 'https://youtube.com/playlist?list=PLiWYFXJlPBJ9rY1Z7iAwdsjhDCEtLf-ue&si=NxB1c281GDhf2Iez'\n",
    "\n",
    "# Testando as URLs\n",
    "print(verificar_tipo_url(url_video))    # Deve retornar \"Vídeo único\"\n",
    "print(verificar_tipo_url(url_playlist)) # Deve retornar \"Playlist\"\n"
   ]
  },
  {
   "cell_type": "markdown",
   "id": "9dc89da0-9bb2-4fce-b374-b6f269b03ae6",
   "metadata": {},
   "source": [
    "# ====== Download de apenas um video/audio: ======"
   ]
  },
  {
   "cell_type": "code",
   "execution_count": 15,
   "id": "57248491-a18c-4126-ac9b-0ed8d863a512",
   "metadata": {},
   "outputs": [],
   "source": [
    "################################ LINK & FORMATO ################################\n",
    "video_url = 'https://www.youtube.com/watch?v=4RMlboFffKU'\n",
    "video = YouTube(video_url)\n",
    "\n",
    "formato_video_audio = True\n",
    "#formato_video_audio = False"
   ]
  },
  {
   "cell_type": "code",
   "execution_count": 19,
   "id": "24a87671-a12f-4480-ab75-316e5b17ad5f",
   "metadata": {},
   "outputs": [
    {
     "name": "stdout",
     "output_type": "stream",
     "text": [
      "Não dois: não dualidade explicada - Parte 6 - O Centro => 148.85MB\n"
     ]
    },
    {
     "name": "stderr",
     "output_type": "stream",
     "text": [
      "Loading:   0%|                                                                                  | 0/100 [00:00<?, ?%/s]"
     ]
    },
    {
     "name": "stdout",
     "output_type": "stream",
     "text": [
      "***************Atributos do Stream:***************\n",
      "Resolucao: 720p\n",
      "Codec de Áudio: mp4a.40.2\n",
      "Tipo de Stream: video\n",
      "Taxa de Bits de Áudio: 192kbps\n",
      "Tamanho: 148.85 MB\n",
      "**************************************************\n"
     ]
    },
    {
     "name": "stderr",
     "output_type": "stream",
     "text": [
      "Loading:   0%|                                                                                  | 0/100 [00:00<?, ?%/s]"
     ]
    },
    {
     "name": "stdout",
     "output_type": "stream",
     "text": [
      "<Stream: itag=\"22\" mime_type=\"video/mp4\" res=\"720p\" fps=\"25fps\" vcodec=\"avc1.64001F\" acodec=\"mp4a.40.2\" progressive=\"True\" type=\"video\">\n",
      "CPU times: total: 109 ms\n",
      "Wall time: 262 ms\n"
     ]
    },
    {
     "name": "stderr",
     "output_type": "stream",
     "text": [
      "\n"
     ]
    }
   ],
   "source": [
    "%%time\n",
    "print(video.title, '=>', str(round(stream.filesize_mb, 2)) + \"MB\")\n",
    "\n",
    "###############################################################################-\n",
    "# Registra o callback de progresso\n",
    "video.register_on_progress_callback(progress_function)\n",
    "bar = tqdm(total=100, desc='Loading', unit='%', leave=True)\n",
    "################################### DOWNLOAD ###################################\n",
    "download()\n",
    "###############################################################################-\n",
    "bar.close() # Finaliza a barra de progresso # colar depois do download"
   ]
  },
  {
   "cell_type": "markdown",
   "id": "579d4ba0-63d5-431f-8e10-00666993d582",
   "metadata": {},
   "source": [
    "# ===== Download de playlist inteira: ======'"
   ]
  },
  {
   "cell_type": "code",
   "execution_count": null,
   "id": "3f00a39c",
   "metadata": {},
   "outputs": [],
   "source": [
    "################################ LINK & FORMATO ################################\n",
    "playlist_url = 'https://youtube.com/playlist?list=PLozN8SI4ddsLSE67AnexD1PvD2C7dwcCw&si=KJm5iuPpDaIJ_GGh'\n",
    "playlist = Playlist(playlist_url)\n",
    "#formato_video_audio = True\n",
    "formato_video_audio = False\n",
    "\n",
    "print(playlist.title)\n",
    "print('qtd:', playlist.length)"
   ]
  },
  {
   "cell_type": "code",
   "execution_count": null,
   "id": "3cdff01f-43c2-4613-888d-af7580e436b6",
   "metadata": {},
   "outputs": [],
   "source": [
    "H = 0 ; total_mb = 0 ; count = 0"
   ]
  },
  {
   "cell_type": "code",
   "execution_count": null,
   "id": "4c738226",
   "metadata": {
    "scrolled": true
   },
   "outputs": [],
   "source": [
    "%%time\n",
    "for video in playlist.videos[H:len(playlist)]:\n",
    "    print('\\n', count, '-', video.title)\n",
    "    ###############################################################################-\n",
    "    video.register_on_progress_callback(progress_function)\n",
    "    bar = tqdm(total=100, desc='Loading', unit='%', leave=True)\n",
    "    ################################### DOWNLOAD ###################################\n",
    "    download()\n",
    "    ###############################################################################-\n",
    "    bar.close()\n",
    "    H += 1 ; total_mb += stream.filesize_mb ; count += 1\n",
    "\n",
    "###############################################################################-\n",
    "print('\\n', 'Total:', str(round(total_mb,2)), 'MB')"
   ]
  },
  {
   "cell_type": "markdown",
   "id": "f9da67ec-3c2e-46f6-8071-66f62c5c06d4",
   "metadata": {},
   "source": [
    "# ==== Download todos videos do canal: ====="
   ]
  },
  {
   "cell_type": "raw",
   "id": "795767a0-a506-441d-a59d-a81522ebe220",
   "metadata": {},
   "source": [
    "from pytube import Channel\n",
    "c = Channel('https://www.youtube.com/StatiR_br')\n",
    "#c = Channel('https://www.youtube.com/user/StatiR_br')\n",
    "#c = Channel('https://www.youtube.com/channel/StatiR_br')\n",
    "#c = Channel('https://www.youtube.com/c/StatiR_br')\n",
    "print(c)\n",
    "for video in c.videos:\n",
    "    print(video)\n",
    "    #video.streams.first().download()"
   ]
  },
  {
   "cell_type": "markdown",
   "id": "57878922-4676-4014-a1b6-c683a270da38",
   "metadata": {},
   "source": [
    "### passa a passo\n",
    "\n",
    "- ir no 'youtube/canal/videos/'\n",
    "- inspecionar elementos > console\n",
    "- enviar(digitando) ->\n",
    "allow pasting\n",
    " \n",
    "- enviar(colando) ->\n",
    "var scroll = setInterval(function(){ window.scrollBy(0, 1000)}, 1000);\n",
    "\n",
    "- enviar(colando) ->\n",
    "window.clearInterval(scroll);console.clear();urls = $$('a');urls.forEach(function(v,i,a){if (v.id==\"video-title-link\" && v.href){console.log('\\t'+v.title+'\\t'+v.href+'\\t')}});\n",
    "\n",
    "- copie o output e cole em um arquivo excel"
   ]
  },
  {
   "cell_type": "code",
   "execution_count": 109,
   "id": "de983d2e-ff64-422a-a703-4aeb5c85c59b",
   "metadata": {},
   "outputs": [
    {
     "name": "stdout",
     "output_type": "stream",
     "text": [
      "qtd: 228\n"
     ]
    },
    {
     "data": {
      "text/plain": [
       "218"
      ]
     },
     "execution_count": 109,
     "metadata": {},
     "output_type": "execute_result"
    }
   ],
   "source": [
    "################################ LINK & FORMATO ################################\n",
    "local = 'C:/Users/gabri/Downloads/down/'\n",
    "arquivo = 'links.xlsx'\n",
    "formato_video_audio = True\n",
    "\n",
    "df = pd.read_excel(local+arquivo)\n",
    "print('qtd:', len(df))"
   ]
  },
  {
   "cell_type": "code",
   "execution_count": 111,
   "id": "dd13df90-a037-41e3-95be-67fd0f6a4e44",
   "metadata": {},
   "outputs": [],
   "source": [
    "H = 0 ; total_mb = 0"
   ]
  },
  {
   "cell_type": "code",
   "execution_count": 125,
   "id": "40e78c83-304e-4741-95f2-4551441e9c19",
   "metadata": {},
   "outputs": [
    {
     "name": "stdout",
     "output_type": "stream",
     "text": [
      "\n",
      " 227 - το 'Αλφα και το Ωμέγα\n"
     ]
    },
    {
     "name": "stderr",
     "output_type": "stream",
     "text": [
      "\n",
      "Loading:  33%|████████████████████████                                                 | 33/100 [01:53<03:51,  3.45s/%]\u001b[A\n",
      "\n",
      "Loading: 100%|████████████████████████████████████████████████████████████████████████| 100/100 [00:06<00:00, 16.39%/s]\u001b[A\n"
     ]
    },
    {
     "name": "stdout",
     "output_type": "stream",
     "text": [
      "***************Atributos do Stream:***************\n",
      "Resolucao: 720p\n",
      "Codec de Áudio: mp4a.40.2\n",
      "Tipo de Stream: video\n",
      "Taxa de Bits de Áudio: 192kbps\n",
      "Tamanho: 1.76 MB\n",
      "**************************************************\n",
      "<Stream: itag=\"22\" mime_type=\"video/mp4\" res=\"720p\" fps=\"25fps\" vcodec=\"avc1.64001F\" acodec=\"mp4a.40.2\" progressive=\"True\" type=\"video\">\n",
      "\n",
      " 227 - Swami Vivekananda - O Filme - 2012 - Legendado em Português\n"
     ]
    },
    {
     "name": "stderr",
     "output_type": "stream",
     "text": [
      "Loading: 100%|████████████████████████████████████████████████████████████████████████| 100/100 [01:36<00:00,  1.04%/s]\n"
     ]
    },
    {
     "name": "stdout",
     "output_type": "stream",
     "text": [
      "***************Atributos do Stream:***************\n",
      "Resolucao: 360p\n",
      "Codec de Áudio: mp4a.40.2\n",
      "Tipo de Stream: video\n",
      "Taxa de Bits de Áudio: 96kbps\n",
      "Tamanho: 423.62 MB\n",
      "**************************************************\n",
      "<Stream: itag=\"18\" mime_type=\"video/mp4\" res=\"360p\" fps=\"25fps\" vcodec=\"avc1.42001E\" acodec=\"mp4a.40.2\" progressive=\"True\" type=\"video\">\n",
      "\n",
      " 227 - Você sempre existiu\n"
     ]
    },
    {
     "name": "stderr",
     "output_type": "stream",
     "text": [
      "Loading: 100%|████████████████████████████████████████████████████████████████████████| 100/100 [00:10<00:00,  9.40%/s]\n"
     ]
    },
    {
     "name": "stdout",
     "output_type": "stream",
     "text": [
      "***************Atributos do Stream:***************\n",
      "Resolucao: 720p\n",
      "Codec de Áudio: mp4a.40.2\n",
      "Tipo de Stream: video\n",
      "Taxa de Bits de Áudio: 192kbps\n",
      "Tamanho: 57.6 MB\n",
      "**************************************************\n",
      "<Stream: itag=\"22\" mime_type=\"video/mp4\" res=\"720p\" fps=\"25fps\" vcodec=\"avc1.64001F\" acodec=\"mp4a.40.2\" progressive=\"True\" type=\"video\">\n",
      "\n",
      " 227 - Yoga -  Criação, tattvas, vayus, koshas, gunas, chakras e nadis.\n"
     ]
    },
    {
     "name": "stderr",
     "output_type": "stream",
     "text": [
      "Loading: 100%|████████████████████████████████████████████████████████████████████████| 100/100 [01:00<00:00,  1.65%/s]\n"
     ]
    },
    {
     "name": "stdout",
     "output_type": "stream",
     "text": [
      "***************Atributos do Stream:***************\n",
      "Resolucao: 720p\n",
      "Codec de Áudio: mp4a.40.2\n",
      "Tipo de Stream: video\n",
      "Taxa de Bits de Áudio: 192kbps\n",
      "Tamanho: 270.99 MB\n",
      "**************************************************\n",
      "<Stream: itag=\"22\" mime_type=\"video/mp4\" res=\"720p\" fps=\"25fps\" vcodec=\"avc1.64001F\" acodec=\"mp4a.40.2\" progressive=\"True\" type=\"video\">\n",
      "\n",
      " 227 - DMT - Experimentando o impossível\n"
     ]
    },
    {
     "name": "stderr",
     "output_type": "stream",
     "text": [
      "Loading: 100%|████████████████████████████████████████████████████████████████████████| 100/100 [00:29<00:00,  3.34%/s]\n"
     ]
    },
    {
     "name": "stdout",
     "output_type": "stream",
     "text": [
      "***************Atributos do Stream:***************\n",
      "Resolucao: 720p\n",
      "Codec de Áudio: mp4a.40.2\n",
      "Tipo de Stream: video\n",
      "Taxa de Bits de Áudio: 192kbps\n",
      "Tamanho: 200.39 MB\n",
      "**************************************************\n",
      "<Stream: itag=\"22\" mime_type=\"video/mp4\" res=\"720p\" fps=\"25fps\" vcodec=\"avc1.64001F\" acodec=\"mp4a.40.2\" progressive=\"True\" type=\"video\">\n",
      "\n",
      " 227 - Paul Stamets - Cogumelos Mágicos e uma mudança profunda de vida\n"
     ]
    },
    {
     "name": "stderr",
     "output_type": "stream",
     "text": [
      "Loading: 100%|████████████████████████████████████████████████████████████████████████| 100/100 [00:33<00:00,  2.96%/s]\n"
     ]
    },
    {
     "name": "stdout",
     "output_type": "stream",
     "text": [
      "***************Atributos do Stream:***************\n",
      "Resolucao: 720p\n",
      "Codec de Áudio: mp4a.40.2\n",
      "Tipo de Stream: video\n",
      "Taxa de Bits de Áudio: 192kbps\n",
      "Tamanho: 128.91 MB\n",
      "**************************************************\n",
      "<Stream: itag=\"22\" mime_type=\"video/mp4\" res=\"720p\" fps=\"24fps\" vcodec=\"avc1.64001F\" acodec=\"mp4a.40.2\" progressive=\"True\" type=\"video\">\n",
      "\n",
      " 227 - A vida é só um sonho!\n"
     ]
    },
    {
     "name": "stderr",
     "output_type": "stream",
     "text": [
      "Loading: 100%|████████████████████████████████████████████████████████████████████████| 100/100 [00:14<00:00,  6.68%/s]\n"
     ]
    },
    {
     "name": "stdout",
     "output_type": "stream",
     "text": [
      "***************Atributos do Stream:***************\n",
      "Resolucao: 720p\n",
      "Codec de Áudio: mp4a.40.2\n",
      "Tipo de Stream: video\n",
      "Taxa de Bits de Áudio: 192kbps\n",
      "Tamanho: 80.63 MB\n",
      "**************************************************\n",
      "<Stream: itag=\"22\" mime_type=\"video/mp4\" res=\"720p\" fps=\"25fps\" vcodec=\"avc1.64001F\" acodec=\"mp4a.40.2\" progressive=\"True\" type=\"video\">\n",
      "\n",
      " 227 - Sadhguru - Revela o segredo do seu conhecimento - Mantra Shiva Shambho - Legendado em português\n"
     ]
    },
    {
     "name": "stderr",
     "output_type": "stream",
     "text": [
      "Loading: 100%|████████████████████████████████████████████████████████████████████████| 100/100 [00:57<00:00,  1.74%/s]\n"
     ]
    },
    {
     "name": "stdout",
     "output_type": "stream",
     "text": [
      "***************Atributos do Stream:***************\n",
      "Resolucao: 720p\n",
      "Codec de Áudio: mp4a.40.2\n",
      "Tipo de Stream: video\n",
      "Taxa de Bits de Áudio: 192kbps\n",
      "Tamanho: 231.89 MB\n",
      "**************************************************\n",
      "<Stream: itag=\"22\" mime_type=\"video/mp4\" res=\"720p\" fps=\"25fps\" vcodec=\"avc1.64001F\" acodec=\"mp4a.40.2\" progressive=\"True\" type=\"video\">\n",
      "\n",
      " 227 - Sadhguru TED Talks - Legendado em Portugues\n"
     ]
    },
    {
     "name": "stderr",
     "output_type": "stream",
     "text": [
      "Loading: 100%|████████████████████████████████████████████████████████████████████████| 100/100 [00:22<00:00,  4.48%/s]\n"
     ]
    },
    {
     "name": "stdout",
     "output_type": "stream",
     "text": [
      "***************Atributos do Stream:***************\n",
      "Resolucao: 360p\n",
      "Codec de Áudio: mp4a.40.2\n",
      "Tipo de Stream: video\n",
      "Taxa de Bits de Áudio: 96kbps\n",
      "Tamanho: 41.57 MB\n",
      "**************************************************\n",
      "<Stream: itag=\"18\" mime_type=\"video/mp4\" res=\"360p\" fps=\"25fps\" vcodec=\"avc1.42001E\" acodec=\"mp4a.40.2\" progressive=\"True\" type=\"video\">\n",
      "\n",
      " 227 - O Acordar: Relatos de Iluminação - Mooji - Legendado\n"
     ]
    },
    {
     "name": "stderr",
     "output_type": "stream",
     "text": [
      "Loading: 100%|████████████████████████████████████████████████████████████████████████| 100/100 [00:08<00:00, 12.02%/s]\n"
     ]
    },
    {
     "name": "stdout",
     "output_type": "stream",
     "text": [
      "***************Atributos do Stream:***************\n",
      "Resolucao: 720p\n",
      "Codec de Áudio: mp4a.40.2\n",
      "Tipo de Stream: video\n",
      "Taxa de Bits de Áudio: 192kbps\n",
      "Tamanho: 24.47 MB\n",
      "**************************************************\n",
      "<Stream: itag=\"22\" mime_type=\"video/mp4\" res=\"720p\" fps=\"25fps\" vcodec=\"avc1.64001F\" acodec=\"mp4a.40.2\" progressive=\"True\" type=\"video\">\n",
      "\n",
      " 227 - What really exists - Jim Carrey - Legendado (O que Realmente Existe)\n"
     ]
    },
    {
     "name": "stderr",
     "output_type": "stream",
     "text": [
      "Loading: 100%|████████████████████████████████████████████████████████████████████████| 100/100 [00:12<00:00,  7.96%/s]"
     ]
    },
    {
     "name": "stdout",
     "output_type": "stream",
     "text": [
      "***************Atributos do Stream:***************\n",
      "Resolucao: 720p\n",
      "Codec de Áudio: mp4a.40.2\n",
      "Tipo de Stream: video\n",
      "Taxa de Bits de Áudio: 192kbps\n",
      "Tamanho: 33.76 MB\n",
      "**************************************************\n",
      "<Stream: itag=\"22\" mime_type=\"video/mp4\" res=\"720p\" fps=\"24fps\" vcodec=\"avc1.64001F\" acodec=\"mp4a.40.2\" progressive=\"True\" type=\"video\">\n",
      "\n",
      " Total: 2679.34 MB\n",
      "CPU times: total: 1min 37s\n",
      "Wall time: 5min 58s\n"
     ]
    },
    {
     "name": "stderr",
     "output_type": "stream",
     "text": [
      "\n"
     ]
    }
   ],
   "source": [
    "%%time\n",
    "for H in range(H, len(df)):\n",
    "    video = YouTube(df['Link'][H])\n",
    "    print('\\n', i, '-', video.title)\n",
    "    ###############################################################################-\n",
    "    video.register_on_progress_callback(progress_function)\n",
    "    bar = tqdm(total=100, desc='Loading', unit='%', leave=True)\n",
    "    ################################### DOWNLOAD ###################################\n",
    "    download()\n",
    "    ###############################################################################-\n",
    "    bar.close()\n",
    "    H += 1 ; total_mb += stream.filesize_mb\n",
    "\n",
    "###############################################################################-\n",
    "print('\\n', 'Total:', str(round(total_mb,2)), 'MB')"
   ]
  },
  {
   "cell_type": "markdown",
   "id": "37b59035-4853-498c-8e69-81ece7c1838f",
   "metadata": {},
   "source": [
    "# Transferindo arquivo para pasta especifica"
   ]
  },
  {
   "cell_type": "code",
   "execution_count": null,
   "id": "cbafd108-f313-495e-82ba-4aa741a28667",
   "metadata": {},
   "outputs": [],
   "source": [
    "# Manipulação de arquivo\n",
    "import os\n",
    "import shutil"
   ]
  },
  {
   "cell_type": "code",
   "execution_count": null,
   "id": "0b460296-9349-421c-8360-2c5405b6d025",
   "metadata": {},
   "outputs": [],
   "source": [
    "H = 0"
   ]
  },
  {
   "cell_type": "code",
   "execution_count": null,
   "id": "048aefe5-8b04-4632-bbee-0f53ae0b83f3",
   "metadata": {},
   "outputs": [],
   "source": [
    "%%time\n",
    "\n",
    "#diretorio_origem = os.getcwd() #diretorio atual\n",
    "diretorio_origem = caminho_salvar_arquivo\n",
    "\n",
    "diretorio_destino = 'C:/Users/ADM/Videos/baixados'\n",
    "\n",
    "# Listar todos os arquivos no diretório de origem\n",
    "for arquivo in os.listdir(diretorio_origem):\n",
    "    # Verificar se o arquivo é um arquivo .mp4\n",
    "    if arquivo.endswith('.mp4'):\n",
    "        # Construir o caminho completo do arquivo\n",
    "        caminho_completo = os.path.join(diretorio_origem, arquivo)\n",
    "        \n",
    "        # Mover o arquivo para o diretório de destino\n",
    "        shutil.move(caminho_completo, diretorio_destino)\n",
    "        print(f'Arquivo {arquivo} movido para {diretorio_destino}')"
   ]
  }
 ],
 "metadata": {
  "kernelspec": {
   "display_name": "Python 3 (ipykernel)",
   "language": "python",
   "name": "python3"
  },
  "language_info": {
   "codemirror_mode": {
    "name": "ipython",
    "version": 3
   },
   "file_extension": ".py",
   "mimetype": "text/x-python",
   "name": "python",
   "nbconvert_exporter": "python",
   "pygments_lexer": "ipython3",
   "version": "3.11.7"
  }
 },
 "nbformat": 4,
 "nbformat_minor": 5
}
